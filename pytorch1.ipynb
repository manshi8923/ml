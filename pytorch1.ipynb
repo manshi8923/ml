{
 "cells": [
  {
   "cell_type": "code",
   "execution_count": 2,
   "id": "db6543cd-0f73-453e-a4e8-70fb312cb5ea",
   "metadata": {
    "tags": []
   },
   "outputs": [
    {
     "name": "stdout",
     "output_type": "stream",
     "text": [
      "tensor([[0., 0., 0., 0.],\n",
      "        [0., 0., 0., 0.]])\n",
      "tensor([0., 0., 0.])\n"
     ]
    }
   ],
   "source": [
    "import torch\n",
    "## 1d vector with three elements\n",
    "x=torch.empty(3)\n",
    "## 2d matrix\n",
    "y=torch.empty(2,4)\n",
    "print(y)\n",
    "print(x)"
   ]
  },
  {
   "cell_type": "code",
   "execution_count": 3,
   "id": "25e39210-c6cb-4700-b21c-44950269739a",
   "metadata": {},
   "outputs": [
    {
     "name": "stdout",
     "output_type": "stream",
     "text": [
      "tensor([[1., 1.],\n",
      "        [1., 1.]])\n"
     ]
    }
   ],
   "source": [
    "z=torch.ones(2,2)\n",
    "print(z)"
   ]
  },
  {
   "cell_type": "code",
   "execution_count": 4,
   "id": "e4ebbf94-3ba3-4a4a-b758-71626cc90a21",
   "metadata": {
    "tags": []
   },
   "outputs": [
    {
     "name": "stdout",
     "output_type": "stream",
     "text": [
      "tensor([[1, 1],\n",
      "        [1, 1]], dtype=torch.int32)\n",
      "torch.Size([2, 2])\n"
     ]
    }
   ],
   "source": [
    "## declaring the datatype of variable\n",
    "z=torch.ones(2,2,dtype=torch.int)\n",
    "print(z)\n",
    "print(z.size())"
   ]
  },
  {
   "cell_type": "code",
   "execution_count": 5,
   "id": "e78a6a0f-a18e-40b5-af0e-1990cff16659",
   "metadata": {
    "tags": []
   },
   "outputs": [],
   "source": [
    "x=torch.tensor([2.5,0.1])"
   ]
  },
  {
   "cell_type": "code",
   "execution_count": 6,
   "id": "2aab589c-5292-49bc-a1f5-1fdcb6c293e3",
   "metadata": {
    "tags": []
   },
   "outputs": [
    {
     "name": "stdout",
     "output_type": "stream",
     "text": [
      "tensor([2.5000, 0.1000])\n"
     ]
    }
   ],
   "source": [
    "print(x)"
   ]
  },
  {
   "cell_type": "code",
   "execution_count": 7,
   "id": "77bce1fd-a408-4027-a42b-6bdfa34d444c",
   "metadata": {
    "tags": []
   },
   "outputs": [
    {
     "name": "stdout",
     "output_type": "stream",
     "text": [
      "tensor([[0.7479, 0.4130],\n",
      "        [0.3880, 0.0706]])\n",
      "tensor([[0.4418, 0.5248],\n",
      "        [0.1300, 0.4452]])\n"
     ]
    }
   ],
   "source": [
    "x=torch.rand(2,2)\n",
    "y=torch.rand(2,2)\n",
    "print(x)\n",
    "print(y)"
   ]
  },
  {
   "cell_type": "code",
   "execution_count": 8,
   "id": "ce41d3de-bcd2-4bb2-a3b0-01ab358133d5",
   "metadata": {
    "tags": []
   },
   "outputs": [
    {
     "name": "stdout",
     "output_type": "stream",
     "text": [
      "tensor([[0.3304, 0.2167],\n",
      "        [0.0504, 0.0314]])\n"
     ]
    }
   ],
   "source": [
    "z=x*y\n",
    "print(z)"
   ]
  },
  {
   "cell_type": "code",
   "execution_count": 9,
   "id": "d8bf468b-61bb-4225-b73e-e894d604381f",
   "metadata": {
    "tags": []
   },
   "outputs": [
    {
     "name": "stdout",
     "output_type": "stream",
     "text": [
      "tensor([[1.1897, 0.9377],\n",
      "        [0.5180, 0.5158]])\n"
     ]
    }
   ],
   "source": [
    "z=x+y\n",
    "print(z)"
   ]
  },
  {
   "cell_type": "code",
   "execution_count": 10,
   "id": "d3621a81-273e-469b-b4e9-8c78027ee3b6",
   "metadata": {},
   "outputs": [
    {
     "name": "stdout",
     "output_type": "stream",
     "text": [
      "tensor([[0.9229, 0.0080, 0.6285, 0.7519],\n",
      "        [0.0997, 0.7468, 0.6146, 0.8320],\n",
      "        [0.1801, 0.5341, 0.1860, 0.0144],\n",
      "        [0.9418, 0.2476, 0.3641, 0.7074]])\n"
     ]
    }
   ],
   "source": [
    "x=torch.rand(4,4)\n",
    "print(x)"
   ]
  },
  {
   "cell_type": "code",
   "execution_count": 12,
   "id": "d1626878-fb76-4dfd-9d15-e103c431fa7f",
   "metadata": {
    "tags": []
   },
   "outputs": [
    {
     "name": "stdout",
     "output_type": "stream",
     "text": [
      "tensor([1., 1., 1., 1., 1.])\n",
      "[1. 1. 1. 1. 1.]\n",
      "tensor([2., 2., 2., 2., 2.])\n"
     ]
    }
   ],
   "source": [
    "a=torch.ones(5)\n",
    "print(a)\n",
    "b=a.numpy()\n",
    "print(b)\n",
    "a.add_(1)\n",
    "print(a)"
   ]
  },
  {
   "cell_type": "code",
   "execution_count": null,
   "id": "c19737f2-674f-4231-a1ae-60ddde9fc4a5",
   "metadata": {},
   "outputs": [],
   "source": []
  }
 ],
 "metadata": {
  "kernelspec": {
   "display_name": "Python 3 (ipykernel)",
   "language": "python",
   "name": "python3"
  },
  "language_info": {
   "codemirror_mode": {
    "name": "ipython",
    "version": 3
   },
   "file_extension": ".py",
   "mimetype": "text/x-python",
   "name": "python",
   "nbconvert_exporter": "python",
   "pygments_lexer": "ipython3",
   "version": "3.11.5"
  }
 },
 "nbformat": 4,
 "nbformat_minor": 5
}
