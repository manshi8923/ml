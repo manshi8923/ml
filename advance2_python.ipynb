{
 "cells": [
  {
   "cell_type": "code",
   "execution_count": 4,
   "id": "e0b6b41e-fb26-444a-929a-9ddb840b4007",
   "metadata": {
    "tags": []
   },
   "outputs": [
    {
     "name": "stdout",
     "output_type": "stream",
     "text": [
      "15\n"
     ]
    }
   ],
   "source": [
    "#lambda arguments: expression\n",
    "add10=lambda x:x+10\n",
    "print(add10(5))"
   ]
  },
  {
   "cell_type": "code",
   "execution_count": 6,
   "id": "42a96385-aa2c-4a04-9039-b26cfdf7ac99",
   "metadata": {
    "tags": []
   },
   "outputs": [
    {
     "name": "stdout",
     "output_type": "stream",
     "text": [
      "2\n"
     ]
    }
   ],
   "source": [
    "mult=lambda x,y:x*y\n",
    "print(mult(1,2))"
   ]
  },
  {
   "cell_type": "code",
   "execution_count": 7,
   "id": "56e5c0bf-15d8-44c9-91ea-28457ae83b9e",
   "metadata": {
    "tags": []
   },
   "outputs": [
    {
     "name": "stdout",
     "output_type": "stream",
     "text": [
      "[(5, -1), (15, 1), (1, 2), (10, 4)]\n"
     ]
    }
   ],
   "source": [
    "points=[(1,2),(15,1),(5,-1),(10,4)]\n",
    "points_sorted=sorted(points,key=lambda x:x[1])\n",
    "print(points_sorted)"
   ]
  },
  {
   "cell_type": "code",
   "execution_count": 8,
   "id": "a68e962d-fa02-47d4-9ae2-e324ec2fa4e5",
   "metadata": {
    "tags": []
   },
   "outputs": [
    {
     "name": "stdout",
     "output_type": "stream",
     "text": [
      "24\n"
     ]
    }
   ],
   "source": [
    "# reduce (func,seq)\n",
    "from functools import reduce\n",
    "a=[1,2,3,4]\n",
    "product_a=reduce(lambda x,y:x*y,a)\n",
    "print(product_a)"
   ]
  },
  {
   "cell_type": "code",
   "execution_count": 10,
   "id": "4fed789d-5be6-4563-a4e7-87e2f0a144c6",
   "metadata": {
    "tags": []
   },
   "outputs": [
    {
     "ename": "ValueError",
     "evalue": "list.remove(x): x not in list",
     "output_type": "error",
     "traceback": [
      "\u001b[0;31m---------------------------------------------------------------------------\u001b[0m",
      "\u001b[0;31mValueError\u001b[0m                                Traceback (most recent call last)",
      "Cell \u001b[0;32mIn[10], line 3\u001b[0m\n\u001b[1;32m      1\u001b[0m \u001b[38;5;66;03m## errrors and exceptations\u001b[39;00m\n\u001b[1;32m      2\u001b[0m a\u001b[38;5;241m=\u001b[39m[\u001b[38;5;241m1\u001b[39m,\u001b[38;5;241m2\u001b[39m,\u001b[38;5;241m3\u001b[39m]\n\u001b[0;32m----> 3\u001b[0m a\u001b[38;5;241m.\u001b[39mremove(\u001b[38;5;241m4\u001b[39m)\n\u001b[1;32m      4\u001b[0m \u001b[38;5;28mprint\u001b[39m(a)\n",
      "\u001b[0;31mValueError\u001b[0m: list.remove(x): x not in list"
     ]
    }
   ],
   "source": [
    "## errrors and exceptations\n",
    "a=[1,2,3]\n",
    "a.remove(4)\n",
    "print(a)"
   ]
  },
  {
   "cell_type": "code",
   "execution_count": 11,
   "id": "88f02cb8-a4ac-4440-8dbd-25c1399895b5",
   "metadata": {
    "tags": []
   },
   "outputs": [
    {
     "name": "stdout",
     "output_type": "stream",
     "text": [
      "an error happened\n"
     ]
    }
   ],
   "source": [
    "try:\n",
    "    a=5/0\n",
    "except:\n",
    "    print(\"an error happened\")"
   ]
  },
  {
   "cell_type": "code",
   "execution_count": 12,
   "id": "ddd5fc16-8918-4842-98d2-7e2f87c48e5d",
   "metadata": {
    "tags": []
   },
   "outputs": [
    {
     "name": "stdout",
     "output_type": "stream",
     "text": [
      "division by zero\n"
     ]
    }
   ],
   "source": [
    "try:\n",
    "    a=5/0\n",
    "except Exception as e:\n",
    "    print(e)"
   ]
  },
  {
   "cell_type": "code",
   "execution_count": 14,
   "id": "7b1ab8a0-e076-41a8-a262-5c6a70ab3f53",
   "metadata": {
    "tags": []
   },
   "outputs": [
    {
     "name": "stdout",
     "output_type": "stream",
     "text": [
      "unsupported operand type(s) for +: 'float' and 'str'\n"
     ]
    }
   ],
   "source": [
    "try:\n",
    "    a=5/1\n",
    "    b=a+'10'\n",
    "except ZeroDivisionError as e:\n",
    "    print(e)\n",
    "except TypeError as e:\n",
    "    print(e)"
   ]
  },
  {
   "cell_type": "code",
   "execution_count": 16,
   "id": "9a1be266-bd76-4916-84e8-e270282ca1ab",
   "metadata": {
    "tags": []
   },
   "outputs": [
    {
     "name": "stdout",
     "output_type": "stream",
     "text": [
      "Everything is fine\n",
      "cleaning up\n"
     ]
    }
   ],
   "source": [
    "try:\n",
    "    a=5/1\n",
    "    b=a+3\n",
    "except ZeroDivisionError as e:\n",
    "    print(e)\n",
    "except TypeError as e:\n",
    "    print(e)\n",
    "else:\n",
    "    print('Everything is fine')\n",
    "finally:\n",
    "    print('cleaning up')\n",
    "    "
   ]
  },
  {
   "cell_type": "code",
   "execution_count": 21,
   "id": "f5a29426-6e4e-4d83-8dd2-1775d4161b1c",
   "metadata": {
    "tags": []
   },
   "outputs": [
    {
     "name": "stdout",
     "output_type": "stream",
     "text": [
      "value is too high\n"
     ]
    }
   ],
   "source": [
    "class valuetoohighError(Exception):\n",
    "    pass\n",
    "\n",
    "def test_value(x):\n",
    "    if x>100:\n",
    "        raise valuetoohighError('value is too high')\n",
    "\n",
    "try:\n",
    "    test_value(200)\n",
    "except valuetoohighError as e:\n",
    "    print(e)"
   ]
  },
  {
   "cell_type": "code",
   "execution_count": 22,
   "id": "6404ce1a-c655-4fcd-83a2-081ea5eadade",
   "metadata": {
    "tags": []
   },
   "outputs": [
    {
     "name": "stderr",
     "output_type": "stream",
     "text": [
      "WARNING:root:this is a warning message\n",
      "ERROR:root:this is an error message\n",
      "CRITICAL:root:this is a critical message\n"
     ]
    }
   ],
   "source": [
    "import logging\n",
    "logging.debug(\"this is debug message\")\n",
    "logging.info(\"this is info message\")\n",
    "logging.warning(\"this is a warning message\")\n",
    "logging.error(\"this is an error message\")\n",
    "logging.critical(\"this is a critical message\")"
   ]
  },
  {
   "cell_type": "code",
   "execution_count": 25,
   "id": "05b82648-75f1-459d-8d3e-4ae40d1a076f",
   "metadata": {
    "tags": []
   },
   "outputs": [
    {
     "name": "stdout",
     "output_type": "stream",
     "text": [
      "3\n"
     ]
    }
   ],
   "source": [
    "import random\n",
    "a=random.randint(1,10)\n",
    "print(a)"
   ]
  },
  {
   "cell_type": "code",
   "execution_count": 29,
   "id": "5680c6e5-c268-4b93-8dd4-bb1322a589f8",
   "metadata": {
    "tags": []
   },
   "outputs": [
    {
     "name": "stdout",
     "output_type": "stream",
     "text": [
      "Start\n",
      "Alex\n",
      "End\n"
     ]
    }
   ],
   "source": [
    "# decorators.py\n",
    "def start_end_decorator(func):\n",
    "    def wrapper():\n",
    "        print(\"Start\")\n",
    "        func()\n",
    "        print(\"End\")\n",
    "    return wrapper\n",
    "def print_name():\n",
    "    print(\"Alex\")\n",
    "print_name=start_end_decorator(print_name)\n",
    "print_name()"
   ]
  },
  {
   "cell_type": "code",
   "execution_count": 31,
   "id": "6a551ee3-d36e-4a4e-8199-e5129eda017c",
   "metadata": {
    "tags": []
   },
   "outputs": [],
   "source": [
    "import functools\n",
    "def my_decorator(func):\n",
    "    @functools.wraps(func)\n",
    "    def wrapper(*args,**kwargs):\n",
    "        result=func(*args,**kwargs)\n",
    "        return result\n",
    "    return wrapper\n",
    "@start_end_decorator\n",
    "def add5(x):\n",
    "    return x+5"
   ]
  },
  {
   "cell_type": "code",
   "execution_count": 32,
   "id": "edbaa3d7-9d37-4a4c-9d6b-29d12fbf5b07",
   "metadata": {
    "tags": []
   },
   "outputs": [
    {
     "name": "stdout",
     "output_type": "stream",
     "text": [
      "hello Alex\n",
      "hello Alex\n",
      "hello Alex\n"
     ]
    }
   ],
   "source": [
    "import functools\n",
    "def repeat(num_times):\n",
    "    def decorator_repeat(func):\n",
    "        @functools.wraps(func)\n",
    "        def wrapper(*args,**kwargs):\n",
    "            for _ in range(num_times):\n",
    "                result=func(*args,**kwargs)\n",
    "            return result\n",
    "        return wrapper\n",
    "    return decorator_repeat\n",
    "\n",
    "@repeat(num_times=3)\n",
    "def greet(name):\n",
    "    print(f'hello {name}')\n",
    "greet('Alex')"
   ]
  },
  {
   "cell_type": "code",
   "execution_count": 34,
   "id": "9102bac1-0b3d-4f84-b2c4-93192a31cb8e",
   "metadata": {
    "tags": []
   },
   "outputs": [
    {
     "name": "stdout",
     "output_type": "stream",
     "text": [
      "1\n",
      "2\n",
      "3\n"
     ]
    }
   ],
   "source": [
    "# generators\n",
    "def mygenerator():\n",
    "    yield 1\n",
    "    yield 2\n",
    "    yield 3\n",
    "g=mygenerator()\n",
    "for i in g:\n",
    "    print(i)"
   ]
  },
  {
   "cell_type": "code",
   "execution_count": null,
   "id": "badd8121-fa98-4247-b1d9-8f6b8517021a",
   "metadata": {},
   "outputs": [],
   "source": []
  }
 ],
 "metadata": {
  "kernelspec": {
   "display_name": "Python 3 (ipykernel)",
   "language": "python",
   "name": "python3"
  },
  "language_info": {
   "codemirror_mode": {
    "name": "ipython",
    "version": 3
   },
   "file_extension": ".py",
   "mimetype": "text/x-python",
   "name": "python",
   "nbconvert_exporter": "python",
   "pygments_lexer": "ipython3",
   "version": "3.11.5"
  }
 },
 "nbformat": 4,
 "nbformat_minor": 5
}
